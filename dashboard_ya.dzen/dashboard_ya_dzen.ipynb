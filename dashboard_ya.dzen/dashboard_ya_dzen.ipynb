{
 "cells": [
  {
   "cell_type": "code",
   "execution_count": 1,
   "id": "c6f7fded",
   "metadata": {},
   "outputs": [],
   "source": [
    "# импортируем библиотеки\n",
    "import pandas as pd\n",
    "from sqlalchemy import create_engine\n",
    "#создаем коннекцию к базе\n",
    "db_config = {'user': 'praktikum_student', # имя пользователя\n",
    "            'pwd': 'Sdf4$2;d-d30pp', # пароль\n",
    "            'host': 'rc1b-wcoijxj3yxfsf3fs.mdb.yandexcloud.net',\n",
    "            'port': 6432, # порт подключения\n",
    "            'db': 'data-analyst-zen-project-db'} # название базы данных\n",
    "\n",
    "connection_string = 'postgresql://{}:{}@{}:{}/{}'.format(db_config['user'],\n",
    "                                                db_config['pwd'],\n",
    "                                                db_config['host'],\n",
    "                                                db_config['port'],\n",
    "                                                db_config['db'])\n",
    "\n",
    "engine = create_engine(connection_string)"
   ]
  },
  {
   "cell_type": "code",
   "execution_count": 2,
   "id": "3306a407",
   "metadata": {},
   "outputs": [],
   "source": [
    "query = '''SELECT *\n",
    "            FROM dash_visits'''"
   ]
  },
  {
   "cell_type": "code",
   "execution_count": 3,
   "id": "3b8e3692",
   "metadata": {},
   "outputs": [],
   "source": [
    "#выполним sql-запрос и сохраним данные в переменную dash_visits\n",
    "dash_visits = pd.io.sql.read_sql(query, con = engine)"
   ]
  },
  {
   "cell_type": "code",
   "execution_count": 4,
   "id": "1c829dfb",
   "metadata": {},
   "outputs": [
    {
     "data": {
      "text/html": [
       "<div>\n",
       "<style scoped>\n",
       "    .dataframe tbody tr th:only-of-type {\n",
       "        vertical-align: middle;\n",
       "    }\n",
       "\n",
       "    .dataframe tbody tr th {\n",
       "        vertical-align: top;\n",
       "    }\n",
       "\n",
       "    .dataframe thead th {\n",
       "        text-align: right;\n",
       "    }\n",
       "</style>\n",
       "<table border=\"1\" class=\"dataframe\">\n",
       "  <thead>\n",
       "    <tr style=\"text-align: right;\">\n",
       "      <th></th>\n",
       "      <th>record_id</th>\n",
       "      <th>item_topic</th>\n",
       "      <th>source_topic</th>\n",
       "      <th>age_segment</th>\n",
       "      <th>dt</th>\n",
       "      <th>visits</th>\n",
       "    </tr>\n",
       "  </thead>\n",
       "  <tbody>\n",
       "    <tr>\n",
       "      <th>0</th>\n",
       "      <td>1040597</td>\n",
       "      <td>Деньги</td>\n",
       "      <td>Авто</td>\n",
       "      <td>18-25</td>\n",
       "      <td>2019-09-24 18:32:00</td>\n",
       "      <td>3</td>\n",
       "    </tr>\n",
       "    <tr>\n",
       "      <th>1</th>\n",
       "      <td>1040598</td>\n",
       "      <td>Деньги</td>\n",
       "      <td>Авто</td>\n",
       "      <td>18-25</td>\n",
       "      <td>2019-09-24 18:35:00</td>\n",
       "      <td>1</td>\n",
       "    </tr>\n",
       "    <tr>\n",
       "      <th>2</th>\n",
       "      <td>1040599</td>\n",
       "      <td>Деньги</td>\n",
       "      <td>Авто</td>\n",
       "      <td>18-25</td>\n",
       "      <td>2019-09-24 18:54:00</td>\n",
       "      <td>4</td>\n",
       "    </tr>\n",
       "    <tr>\n",
       "      <th>3</th>\n",
       "      <td>1040600</td>\n",
       "      <td>Деньги</td>\n",
       "      <td>Авто</td>\n",
       "      <td>18-25</td>\n",
       "      <td>2019-09-24 18:55:00</td>\n",
       "      <td>17</td>\n",
       "    </tr>\n",
       "    <tr>\n",
       "      <th>4</th>\n",
       "      <td>1040601</td>\n",
       "      <td>Деньги</td>\n",
       "      <td>Авто</td>\n",
       "      <td>18-25</td>\n",
       "      <td>2019-09-24 18:56:00</td>\n",
       "      <td>27</td>\n",
       "    </tr>\n",
       "  </tbody>\n",
       "</table>\n",
       "</div>"
      ],
      "text/plain": [
       "   record_id item_topic source_topic age_segment                  dt  visits\n",
       "0    1040597     Деньги         Авто       18-25 2019-09-24 18:32:00       3\n",
       "1    1040598     Деньги         Авто       18-25 2019-09-24 18:35:00       1\n",
       "2    1040599     Деньги         Авто       18-25 2019-09-24 18:54:00       4\n",
       "3    1040600     Деньги         Авто       18-25 2019-09-24 18:55:00      17\n",
       "4    1040601     Деньги         Авто       18-25 2019-09-24 18:56:00      27"
      ]
     },
     "execution_count": 4,
     "metadata": {},
     "output_type": "execute_result"
    }
   ],
   "source": [
    "#выведем 5 строк для ознакомления\n",
    "dash_visits.head()"
   ]
  },
  {
   "cell_type": "code",
   "execution_count": 5,
   "id": "0fe8b0f6",
   "metadata": {},
   "outputs": [],
   "source": [
    "#выгрузим данные в файл csv\n",
    "dash_visits.to_csv('dash_visits.csv')"
   ]
  },
  {
   "cell_type": "code",
   "execution_count": 6,
   "id": "30891d81",
   "metadata": {},
   "outputs": [
    {
     "data": {
      "text/html": [
       "<div>\n",
       "<style scoped>\n",
       "    .dataframe tbody tr th:only-of-type {\n",
       "        vertical-align: middle;\n",
       "    }\n",
       "\n",
       "    .dataframe tbody tr th {\n",
       "        vertical-align: top;\n",
       "    }\n",
       "\n",
       "    .dataframe thead th {\n",
       "        text-align: right;\n",
       "    }\n",
       "</style>\n",
       "<table border=\"1\" class=\"dataframe\">\n",
       "  <thead>\n",
       "    <tr style=\"text-align: right;\">\n",
       "      <th></th>\n",
       "      <th>sum</th>\n",
       "    </tr>\n",
       "    <tr>\n",
       "      <th>item_topic</th>\n",
       "      <th></th>\n",
       "    </tr>\n",
       "  </thead>\n",
       "  <tbody>\n",
       "    <tr>\n",
       "      <th>Наука</th>\n",
       "      <td>21736</td>\n",
       "    </tr>\n",
       "    <tr>\n",
       "      <th>Отношения</th>\n",
       "      <td>20666</td>\n",
       "    </tr>\n",
       "    <tr>\n",
       "      <th>Интересные факты</th>\n",
       "      <td>19942</td>\n",
       "    </tr>\n",
       "    <tr>\n",
       "      <th>Общество</th>\n",
       "      <td>19640</td>\n",
       "    </tr>\n",
       "    <tr>\n",
       "      <th>Подборки</th>\n",
       "      <td>17772</td>\n",
       "    </tr>\n",
       "    <tr>\n",
       "      <th>Россия</th>\n",
       "      <td>16966</td>\n",
       "    </tr>\n",
       "    <tr>\n",
       "      <th>Полезные советы</th>\n",
       "      <td>15435</td>\n",
       "    </tr>\n",
       "    <tr>\n",
       "      <th>История</th>\n",
       "      <td>15389</td>\n",
       "    </tr>\n",
       "    <tr>\n",
       "      <th>Семья</th>\n",
       "      <td>11897</td>\n",
       "    </tr>\n",
       "    <tr>\n",
       "      <th>Женщины</th>\n",
       "      <td>11499</td>\n",
       "    </tr>\n",
       "    <tr>\n",
       "      <th>Дети</th>\n",
       "      <td>10989</td>\n",
       "    </tr>\n",
       "    <tr>\n",
       "      <th>Рассказы</th>\n",
       "      <td>10909</td>\n",
       "    </tr>\n",
       "    <tr>\n",
       "      <th>Здоровье</th>\n",
       "      <td>10399</td>\n",
       "    </tr>\n",
       "    <tr>\n",
       "      <th>Деньги</th>\n",
       "      <td>10291</td>\n",
       "    </tr>\n",
       "    <tr>\n",
       "      <th>Культура</th>\n",
       "      <td>10205</td>\n",
       "    </tr>\n",
       "    <tr>\n",
       "      <th>Красота</th>\n",
       "      <td>9814</td>\n",
       "    </tr>\n",
       "    <tr>\n",
       "      <th>Туризм</th>\n",
       "      <td>9512</td>\n",
       "    </tr>\n",
       "    <tr>\n",
       "      <th>Юмор</th>\n",
       "      <td>9398</td>\n",
       "    </tr>\n",
       "    <tr>\n",
       "      <th>Скандалы</th>\n",
       "      <td>9294</td>\n",
       "    </tr>\n",
       "    <tr>\n",
       "      <th>Путешествия</th>\n",
       "      <td>9260</td>\n",
       "    </tr>\n",
       "    <tr>\n",
       "      <th>Искусство</th>\n",
       "      <td>8516</td>\n",
       "    </tr>\n",
       "    <tr>\n",
       "      <th>Психология</th>\n",
       "      <td>8036</td>\n",
       "    </tr>\n",
       "    <tr>\n",
       "      <th>Женская психология</th>\n",
       "      <td>7737</td>\n",
       "    </tr>\n",
       "    <tr>\n",
       "      <th>Шоу</th>\n",
       "      <td>7511</td>\n",
       "    </tr>\n",
       "    <tr>\n",
       "      <th>Знаменитости</th>\n",
       "      <td>7394</td>\n",
       "    </tr>\n",
       "  </tbody>\n",
       "</table>\n",
       "</div>"
      ],
      "text/plain": [
       "                      sum\n",
       "item_topic               \n",
       "Наука               21736\n",
       "Отношения           20666\n",
       "Интересные факты    19942\n",
       "Общество            19640\n",
       "Подборки            17772\n",
       "Россия              16966\n",
       "Полезные советы     15435\n",
       "История             15389\n",
       "Семья               11897\n",
       "Женщины             11499\n",
       "Дети                10989\n",
       "Рассказы            10909\n",
       "Здоровье            10399\n",
       "Деньги              10291\n",
       "Культура            10205\n",
       "Красота              9814\n",
       "Туризм               9512\n",
       "Юмор                 9398\n",
       "Скандалы             9294\n",
       "Путешествия          9260\n",
       "Искусство            8516\n",
       "Психология           8036\n",
       "Женская психология   7737\n",
       "Шоу                  7511\n",
       "Знаменитости         7394"
      ]
     },
     "execution_count": 6,
     "metadata": {},
     "output_type": "execute_result"
    }
   ],
   "source": [
    "#для презентации выведем таблицу с суммарным количество взаимодействий по темам карточек статей\n",
    "dash_visits.groupby(by='item_topic').sum().sort_values(by=['visits'], ascending=False).drop('record_id', axis=1).rename(columns = {\n",
    "'visits':'sum'})"
   ]
  }
 ],
 "metadata": {
  "ExecuteTimeLog": [
   {
    "duration": 58,
    "start_time": "2022-11-21T14:36:35.353Z"
   },
   {
    "duration": 5,
    "start_time": "2022-11-21T14:36:57.673Z"
   },
   {
    "duration": 16,
    "start_time": "2022-11-21T14:36:57.680Z"
   },
   {
    "duration": 496,
    "start_time": "2022-11-21T14:37:05.651Z"
   },
   {
    "duration": 17,
    "start_time": "2022-11-21T14:37:08.156Z"
   },
   {
    "duration": 8411,
    "start_time": "2022-11-24T19:23:09.696Z"
   },
   {
    "duration": 3,
    "start_time": "2022-11-24T19:23:18.110Z"
   },
   {
    "duration": 248,
    "start_time": "2022-11-24T19:23:22.344Z"
   },
   {
    "duration": 21,
    "start_time": "2022-11-24T19:23:23.990Z"
   },
   {
    "duration": 433,
    "start_time": "2022-11-24T19:23:27.896Z"
   },
   {
    "duration": 277,
    "start_time": "2022-11-24T19:25:56.033Z"
   },
   {
    "duration": 284,
    "start_time": "2022-11-24T19:30:12.150Z"
   },
   {
    "duration": 321,
    "start_time": "2022-11-24T19:36:19.953Z"
   },
   {
    "duration": 53,
    "start_time": "2022-11-29T08:32:37.157Z"
   },
   {
    "duration": 9301,
    "start_time": "2022-11-29T08:32:43.277Z"
   },
   {
    "duration": 3,
    "start_time": "2022-11-29T08:32:52.580Z"
   },
   {
    "duration": 561,
    "start_time": "2022-11-29T08:32:52.584Z"
   },
   {
    "duration": 16,
    "start_time": "2022-11-29T08:32:53.146Z"
   },
   {
    "duration": 274,
    "start_time": "2022-11-29T08:32:53.164Z"
   },
   {
    "duration": 75,
    "start_time": "2022-11-29T08:32:53.440Z"
   },
   {
    "duration": 9,
    "start_time": "2022-11-29T08:33:28.812Z"
   },
   {
    "duration": 5,
    "start_time": "2022-11-29T08:33:36.717Z"
   },
   {
    "duration": 17,
    "start_time": "2022-11-29T08:33:46.454Z"
   },
   {
    "duration": 16,
    "start_time": "2022-11-29T08:35:00.736Z"
   },
   {
    "duration": 15,
    "start_time": "2022-11-29T08:35:23.680Z"
   },
   {
    "duration": 17,
    "start_time": "2022-11-29T08:35:39.368Z"
   },
   {
    "duration": 17,
    "start_time": "2022-11-29T08:36:40.976Z"
   },
   {
    "duration": 7,
    "start_time": "2022-11-29T08:37:33.656Z"
   },
   {
    "duration": 9,
    "start_time": "2022-11-29T08:39:01.506Z"
   },
   {
    "duration": 16,
    "start_time": "2022-11-29T08:39:12.850Z"
   },
   {
    "duration": 17,
    "start_time": "2022-11-29T08:42:32.627Z"
   },
   {
    "duration": 13,
    "start_time": "2022-11-29T08:44:10.140Z"
   },
   {
    "duration": 17,
    "start_time": "2022-11-29T08:44:38.511Z"
   },
   {
    "duration": 17,
    "start_time": "2022-11-29T08:44:49.556Z"
   },
   {
    "duration": 18,
    "start_time": "2022-11-29T08:44:55.148Z"
   },
   {
    "duration": 28,
    "start_time": "2022-11-29T08:45:43.397Z"
   },
   {
    "duration": 20,
    "start_time": "2022-11-29T08:46:01.598Z"
   },
   {
    "duration": 16,
    "start_time": "2022-11-29T08:47:32.423Z"
   },
   {
    "duration": 16,
    "start_time": "2022-11-29T08:48:47.054Z"
   },
   {
    "duration": 31,
    "start_time": "2022-11-29T08:49:03.086Z"
   },
   {
    "duration": 17,
    "start_time": "2022-11-29T08:49:11.926Z"
   },
   {
    "duration": 8862,
    "start_time": "2022-12-02T13:28:45.939Z"
   },
   {
    "duration": 3,
    "start_time": "2022-12-02T13:28:54.803Z"
   },
   {
    "duration": 197,
    "start_time": "2022-12-02T13:28:54.807Z"
   },
   {
    "duration": 20,
    "start_time": "2022-12-02T13:28:55.006Z"
   },
   {
    "duration": 305,
    "start_time": "2022-12-02T13:28:55.028Z"
   },
   {
    "duration": 19,
    "start_time": "2022-12-02T13:28:55.334Z"
   }
  ],
  "kernelspec": {
   "display_name": "Python 3 (ipykernel)",
   "language": "python",
   "name": "python3"
  },
  "language_info": {
   "codemirror_mode": {
    "name": "ipython",
    "version": 3
   },
   "file_extension": ".py",
   "mimetype": "text/x-python",
   "name": "python",
   "nbconvert_exporter": "python",
   "pygments_lexer": "ipython3",
   "version": "3.9.5"
  },
  "toc": {
   "base_numbering": 1,
   "nav_menu": {},
   "number_sections": true,
   "sideBar": true,
   "skip_h1_title": true,
   "title_cell": "Table of Contents",
   "title_sidebar": "Contents",
   "toc_cell": false,
   "toc_position": {},
   "toc_section_display": true,
   "toc_window_display": false
  }
 },
 "nbformat": 4,
 "nbformat_minor": 5
}
